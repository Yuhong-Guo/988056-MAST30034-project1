{
 "cells": [
  {
   "cell_type": "markdown",
   "metadata": {},
   "source": [
    "## downloading, reading csv files & preprocessing df"
   ]
  },
  {
   "cell_type": "code",
   "execution_count": 1,
   "metadata": {},
   "outputs": [],
   "source": [
    "import pandas as pd\n",
    "import matplotlib.pyplot as plt\n",
    "import numpy as np"
   ]
  },
  {
   "cell_type": "markdown",
   "metadata": {},
   "source": [
    "### reading data & attribute selection\n",
    "The focus point is about taxi fare rate:dpm (dollar per mile) and its related/influenced factors. A guess of possible related attributes in the raw data are: trip_distance, money-attributes(RatecodeID, fare_amount, tip_amount, total_amount), datetime-attributes(tpep_pickup_datetime, tpep_dropoff_datetime) and PULocationID.\n",
    "\n",
    "Leaving passenger_count, store_and_fwd_flag, improvement_surcharge, extra, mta_tax, tolls_amount, congestion_surcharge, VendorID, payment_type and DOLocationID not selected.\n",
    "\n",
    "The first 3 attributes are very obviously less related to dpm, so directly avoid reading them in to save memory.\n",
    "\n",
    "1.passenger_count: According to \"Tax Fare\", 'There is no charge for extra passengers', so passenger_count won't have influence on any money-attributes.\n",
    "\n",
    "2.store_and_fwd_flag: a categorical attribute about way of trip record, no useful information about our focus.\n",
    "\n",
    "3.improvement_surcharge: According to \"Taxi Fare\", improvement_surcharge is charged on every kind of trip without any condition, and as theoretically total_amount equal to the sum of all other money-attributes, the improvement_surcharge can be easily combined into the constant parameter in linear regression."
   ]
  },
  {
   "cell_type": "code",
   "execution_count": 66,
   "metadata": {
    "scrolled": true
   },
   "outputs": [
    {
     "name": "stdout",
     "output_type": "stream",
     "text": [
      "Done downloading yellow_tripdata_2019-01.csv to ../raw_data with size 0.64GB\n"
     ]
    }
   ],
   "source": [
    "from os.path import getsize\n",
    "from urllib.request import urlretrieve\n",
    "\n",
    "output_dir = \"../raw_data\"\n",
    "fname_template = \"yellow_tripdata_2019\"\n",
    "\n",
    "for m in [1,2,3,10,11,12]:\n",
    "    month = str(m).zfill(2)\n",
    "    out = f'{fname_template}-{month}.csv'\n",
    "    url = f\"https://s3.amazonaws.com/nyc-tlc/trip+data/{out}\"\n",
    "    urlretrieve(url, f\"{output_dir}/{out}\")\n",
    "\n",
    "    print(f\"Done downloading {out} to {output_dir} with size {getsize(f'{output_dir}/{out}') / 1073741824:.2f}GB\")"
   ]
  },
  {
   "cell_type": "code",
   "execution_count": 2,
   "metadata": {},
   "outputs": [],
   "source": [
    "col_selected = ['VendorID','tpep_pickup_datetime','tpep_dropoff_datetime','trip_distance','PULocationID','DOLocationID',\n",
    "                'RatecodeID','payment_type','fare_amount','extra','mta_tax','tip_amount','tolls_amount','total_amount',\n",
    "                'congestion_surcharge']\n",
    "col_dtypes = {'VendorId':np.float64,'tpep_pickup_datetime':'object','tpep_dropoff_datetime':'object',\n",
    "              'trip_distance':np.float64,'PULocationID':np.int32,'DOLocationID':np.int32,'RatecodeID':np.float64,\n",
    "              'payment_type':np.float64,'fare_amount':np.float64,'extra':np.float64,'mta_tax':np.float64,\n",
    "              'tip_amount':np.float64,'tolls_amount':np.float64,'total_amount':np.float64,'congestion_surcharge':np.float64}\n",
    "col_na = {'PULocationID':'', 'DOLocationID':''}\n",
    "df = pd.read_csv(\"../raw_data/yellow_tripdata_2019-01.csv\", usecols=col_selected, dtype=col_dtypes)\n",
    "for mstr in ['02','03','10','11','12']:\n",
    "    df_new = pd.read_csv(\"../raw_data/yellow_tripdata_2019-\"+mstr+\".csv\", usecols=col_selected, dtype=col_dtypes)\n",
    "    df = df.append(df_new, ignore_index=True)"
   ]
  },
  {
   "cell_type": "code",
   "execution_count": 3,
   "metadata": {},
   "outputs": [
    {
     "data": {
      "text/plain": [
       "(43508031, 14)"
      ]
     },
     "execution_count": 3,
     "metadata": {},
     "output_type": "execute_result"
    }
   ],
   "source": [
    "df.shape"
   ]
  },
  {
   "cell_type": "code",
   "execution_count": 3,
   "metadata": {},
   "outputs": [
    {
     "data": {
      "text/plain": [
       "(38506819, 15)"
      ]
     },
     "execution_count": 3,
     "metadata": {},
     "output_type": "execute_result"
    }
   ],
   "source": [
    "# remove rows containing NaN\n",
    "df = df.dropna()\n",
    "df.shape"
   ]
  },
  {
   "cell_type": "code",
   "execution_count": 4,
   "metadata": {},
   "outputs": [],
   "source": [
    "# convert datetime string objects into datetime datatype\n",
    "df['tpep_pickup_datetime'] = pd.to_datetime(df['tpep_pickup_datetime'])\n",
    "df['tpep_dropoff_datetime'] = pd.to_datetime(df['tpep_dropoff_datetime'])"
   ]
  },
  {
   "cell_type": "code",
   "execution_count": 5,
   "metadata": {
    "scrolled": false
   },
   "outputs": [
    {
     "name": "stdout",
     "output_type": "stream",
     "text": [
      "VendorID                        float64\n",
      "tpep_pickup_datetime     datetime64[ns]\n",
      "tpep_dropoff_datetime    datetime64[ns]\n",
      "trip_distance                   float64\n",
      "RatecodeID                      float64\n",
      "PULocationID                      int32\n",
      "DOLocationID                      int32\n",
      "payment_type                    float64\n",
      "fare_amount                     float64\n",
      "extra                           float64\n",
      "mta_tax                         float64\n",
      "tip_amount                      float64\n",
      "tolls_amount                    float64\n",
      "total_amount                    float64\n",
      "congestion_surcharge            float64\n",
      "dtype: object\n"
     ]
    },
    {
     "data": {
      "text/html": [
       "<div>\n",
       "<style scoped>\n",
       "    .dataframe tbody tr th:only-of-type {\n",
       "        vertical-align: middle;\n",
       "    }\n",
       "\n",
       "    .dataframe tbody tr th {\n",
       "        vertical-align: top;\n",
       "    }\n",
       "\n",
       "    .dataframe thead th {\n",
       "        text-align: right;\n",
       "    }\n",
       "</style>\n",
       "<table border=\"1\" class=\"dataframe\">\n",
       "  <thead>\n",
       "    <tr style=\"text-align: right;\">\n",
       "      <th></th>\n",
       "      <th>VendorID</th>\n",
       "      <th>tpep_pickup_datetime</th>\n",
       "      <th>tpep_dropoff_datetime</th>\n",
       "      <th>trip_distance</th>\n",
       "      <th>RatecodeID</th>\n",
       "      <th>PULocationID</th>\n",
       "      <th>DOLocationID</th>\n",
       "      <th>payment_type</th>\n",
       "      <th>fare_amount</th>\n",
       "      <th>extra</th>\n",
       "      <th>mta_tax</th>\n",
       "      <th>tip_amount</th>\n",
       "      <th>tolls_amount</th>\n",
       "      <th>total_amount</th>\n",
       "      <th>congestion_surcharge</th>\n",
       "    </tr>\n",
       "  </thead>\n",
       "  <tbody>\n",
       "    <tr>\n",
       "      <th>43457008</th>\n",
       "      <td>2.0</td>\n",
       "      <td>2019-12-31 23:09:42</td>\n",
       "      <td>2019-12-31 23:22:39</td>\n",
       "      <td>1.47</td>\n",
       "      <td>1.0</td>\n",
       "      <td>68</td>\n",
       "      <td>246</td>\n",
       "      <td>2.0</td>\n",
       "      <td>10.0</td>\n",
       "      <td>0.5</td>\n",
       "      <td>0.5</td>\n",
       "      <td>0.00</td>\n",
       "      <td>0.0</td>\n",
       "      <td>13.80</td>\n",
       "      <td>2.5</td>\n",
       "    </tr>\n",
       "    <tr>\n",
       "      <th>43457009</th>\n",
       "      <td>2.0</td>\n",
       "      <td>2019-12-31 23:46:57</td>\n",
       "      <td>2019-12-31 23:50:54</td>\n",
       "      <td>0.97</td>\n",
       "      <td>1.0</td>\n",
       "      <td>233</td>\n",
       "      <td>170</td>\n",
       "      <td>1.0</td>\n",
       "      <td>5.0</td>\n",
       "      <td>0.5</td>\n",
       "      <td>0.5</td>\n",
       "      <td>1.76</td>\n",
       "      <td>0.0</td>\n",
       "      <td>10.56</td>\n",
       "      <td>2.5</td>\n",
       "    </tr>\n",
       "    <tr>\n",
       "      <th>43457010</th>\n",
       "      <td>2.0</td>\n",
       "      <td>2019-12-31 23:22:03</td>\n",
       "      <td>2019-12-31 23:29:06</td>\n",
       "      <td>3.30</td>\n",
       "      <td>1.0</td>\n",
       "      <td>262</td>\n",
       "      <td>224</td>\n",
       "      <td>1.0</td>\n",
       "      <td>11.0</td>\n",
       "      <td>0.5</td>\n",
       "      <td>0.5</td>\n",
       "      <td>2.96</td>\n",
       "      <td>0.0</td>\n",
       "      <td>17.76</td>\n",
       "      <td>2.5</td>\n",
       "    </tr>\n",
       "    <tr>\n",
       "      <th>43457011</th>\n",
       "      <td>2.0</td>\n",
       "      <td>2019-12-31 23:33:47</td>\n",
       "      <td>2019-12-31 23:40:10</td>\n",
       "      <td>1.55</td>\n",
       "      <td>1.0</td>\n",
       "      <td>137</td>\n",
       "      <td>4</td>\n",
       "      <td>2.0</td>\n",
       "      <td>7.0</td>\n",
       "      <td>0.5</td>\n",
       "      <td>0.5</td>\n",
       "      <td>0.00</td>\n",
       "      <td>0.0</td>\n",
       "      <td>10.80</td>\n",
       "      <td>2.5</td>\n",
       "    </tr>\n",
       "    <tr>\n",
       "      <th>43457012</th>\n",
       "      <td>2.0</td>\n",
       "      <td>2019-12-31 23:55:19</td>\n",
       "      <td>2020-01-01 00:03:20</td>\n",
       "      <td>1.51</td>\n",
       "      <td>1.0</td>\n",
       "      <td>229</td>\n",
       "      <td>237</td>\n",
       "      <td>2.0</td>\n",
       "      <td>7.5</td>\n",
       "      <td>0.5</td>\n",
       "      <td>0.5</td>\n",
       "      <td>0.00</td>\n",
       "      <td>0.0</td>\n",
       "      <td>11.30</td>\n",
       "      <td>2.5</td>\n",
       "    </tr>\n",
       "  </tbody>\n",
       "</table>\n",
       "</div>"
      ],
      "text/plain": [
       "          VendorID tpep_pickup_datetime tpep_dropoff_datetime  trip_distance  \\\n",
       "43457008       2.0  2019-12-31 23:09:42   2019-12-31 23:22:39           1.47   \n",
       "43457009       2.0  2019-12-31 23:46:57   2019-12-31 23:50:54           0.97   \n",
       "43457010       2.0  2019-12-31 23:22:03   2019-12-31 23:29:06           3.30   \n",
       "43457011       2.0  2019-12-31 23:33:47   2019-12-31 23:40:10           1.55   \n",
       "43457012       2.0  2019-12-31 23:55:19   2020-01-01 00:03:20           1.51   \n",
       "\n",
       "          RatecodeID  PULocationID  DOLocationID  payment_type  fare_amount  \\\n",
       "43457008         1.0            68           246           2.0         10.0   \n",
       "43457009         1.0           233           170           1.0          5.0   \n",
       "43457010         1.0           262           224           1.0         11.0   \n",
       "43457011         1.0           137             4           2.0          7.0   \n",
       "43457012         1.0           229           237           2.0          7.5   \n",
       "\n",
       "          extra  mta_tax  tip_amount  tolls_amount  total_amount  \\\n",
       "43457008    0.5      0.5        0.00           0.0         13.80   \n",
       "43457009    0.5      0.5        1.76           0.0         10.56   \n",
       "43457010    0.5      0.5        2.96           0.0         17.76   \n",
       "43457011    0.5      0.5        0.00           0.0         10.80   \n",
       "43457012    0.5      0.5        0.00           0.0         11.30   \n",
       "\n",
       "          congestion_surcharge  \n",
       "43457008                   2.5  \n",
       "43457009                   2.5  \n",
       "43457010                   2.5  \n",
       "43457011                   2.5  \n",
       "43457012                   2.5  "
      ]
     },
     "execution_count": 5,
     "metadata": {},
     "output_type": "execute_result"
    }
   ],
   "source": [
    "print(df.dtypes)\n",
    "df.tail()"
   ]
  },
  {
   "cell_type": "code",
   "execution_count": 7,
   "metadata": {},
   "outputs": [
    {
     "data": {
      "text/plain": [
       "total_amount            0.108634\n",
       "fare_amount             0.108076\n",
       "tip_amount              0.031781\n",
       "extra                  -0.003300\n",
       "mta_tax                 0.008847\n",
       "tolls_amount            0.004857\n",
       "congestion_surcharge   -0.004290\n",
       "dtype: float64"
      ]
     },
     "execution_count": 7,
     "metadata": {},
     "output_type": "execute_result"
    }
   ],
   "source": [
    "# correlation of dpm against total_amount, fare_amount, tip_amount, extra, mta_tax, tolls_amount, congestion_surcharge\n",
    "df.loc[df['trip_distance']>0][['total_amount', 'fare_amount', 'tip_amount', 'extra', 'mta_tax', 'tolls_amount', 'congestion_surcharge']].corrwith(df.loc[df['trip_distance']>0]['total_amount']/df.loc[df['trip_distance']>0]['trip_distance'])"
   ]
  },
  {
   "cell_type": "code",
   "execution_count": 8,
   "metadata": {},
   "outputs": [],
   "source": [
    "# eliminate the rest 5 attributes discussed above\n",
    "df = df.drop(columns=['extra','mta_tax','tolls_amount','congestion_surcharge'])"
   ]
  },
  {
   "cell_type": "markdown",
   "metadata": {},
   "source": [
    "Although VendorID, payment_type and DOLocationID will not be selected for the final attributes in use, they will still be used in row elimination process to remove instances with invalid/unwanted values of these attributes."
   ]
  },
  {
   "cell_type": "markdown",
   "metadata": {},
   "source": [
    "### row elimination"
   ]
  },
  {
   "cell_type": "code",
   "execution_count": 9,
   "metadata": {},
   "outputs": [
    {
     "data": {
      "text/html": [
       "<div>\n",
       "<style scoped>\n",
       "    .dataframe tbody tr th:only-of-type {\n",
       "        vertical-align: middle;\n",
       "    }\n",
       "\n",
       "    .dataframe tbody tr th {\n",
       "        vertical-align: top;\n",
       "    }\n",
       "\n",
       "    .dataframe thead th {\n",
       "        text-align: right;\n",
       "    }\n",
       "</style>\n",
       "<table border=\"1\" class=\"dataframe\">\n",
       "  <thead>\n",
       "    <tr style=\"text-align: right;\">\n",
       "      <th></th>\n",
       "      <th>VendorID</th>\n",
       "      <th>trip_distance</th>\n",
       "      <th>RatecodeID</th>\n",
       "      <th>PULocationID</th>\n",
       "      <th>DOLocationID</th>\n",
       "      <th>payment_type</th>\n",
       "      <th>fare_amount</th>\n",
       "      <th>tip_amount</th>\n",
       "      <th>total_amount</th>\n",
       "    </tr>\n",
       "  </thead>\n",
       "  <tbody>\n",
       "    <tr>\n",
       "      <th>count</th>\n",
       "      <td>3.850682e+07</td>\n",
       "      <td>3.850682e+07</td>\n",
       "      <td>3.850682e+07</td>\n",
       "      <td>3.850682e+07</td>\n",
       "      <td>3.850682e+07</td>\n",
       "      <td>3.850682e+07</td>\n",
       "      <td>3.850682e+07</td>\n",
       "      <td>3.850682e+07</td>\n",
       "      <td>3.850682e+07</td>\n",
       "    </tr>\n",
       "    <tr>\n",
       "      <th>mean</th>\n",
       "      <td>1.648052e+00</td>\n",
       "      <td>2.928816e+00</td>\n",
       "      <td>1.062819e+00</td>\n",
       "      <td>1.636933e+02</td>\n",
       "      <td>1.618286e+02</td>\n",
       "      <td>1.281697e+00</td>\n",
       "      <td>1.315997e+01</td>\n",
       "      <td>2.216832e+00</td>\n",
       "      <td>1.897351e+01</td>\n",
       "    </tr>\n",
       "    <tr>\n",
       "      <th>std</th>\n",
       "      <td>4.940170e-01</td>\n",
       "      <td>4.928323e+00</td>\n",
       "      <td>7.781968e-01</td>\n",
       "      <td>6.585201e+01</td>\n",
       "      <td>7.008215e+01</td>\n",
       "      <td>4.757621e-01</td>\n",
       "      <td>2.095397e+02</td>\n",
       "      <td>2.296971e+01</td>\n",
       "      <td>2.268097e+02</td>\n",
       "    </tr>\n",
       "    <tr>\n",
       "      <th>min</th>\n",
       "      <td>1.000000e+00</td>\n",
       "      <td>-2.301000e+01</td>\n",
       "      <td>1.000000e+00</td>\n",
       "      <td>1.000000e+00</td>\n",
       "      <td>1.000000e+00</td>\n",
       "      <td>1.000000e+00</td>\n",
       "      <td>-1.472000e+03</td>\n",
       "      <td>-2.008000e+02</td>\n",
       "      <td>-1.472800e+03</td>\n",
       "    </tr>\n",
       "    <tr>\n",
       "      <th>25%</th>\n",
       "      <td>1.000000e+00</td>\n",
       "      <td>9.600000e-01</td>\n",
       "      <td>1.000000e+00</td>\n",
       "      <td>1.250000e+02</td>\n",
       "      <td>1.120000e+02</td>\n",
       "      <td>1.000000e+00</td>\n",
       "      <td>6.500000e+00</td>\n",
       "      <td>0.000000e+00</td>\n",
       "      <td>1.116000e+01</td>\n",
       "    </tr>\n",
       "    <tr>\n",
       "      <th>50%</th>\n",
       "      <td>2.000000e+00</td>\n",
       "      <td>1.600000e+00</td>\n",
       "      <td>1.000000e+00</td>\n",
       "      <td>1.620000e+02</td>\n",
       "      <td>1.620000e+02</td>\n",
       "      <td>1.000000e+00</td>\n",
       "      <td>9.500000e+00</td>\n",
       "      <td>1.860000e+00</td>\n",
       "      <td>1.469000e+01</td>\n",
       "    </tr>\n",
       "    <tr>\n",
       "      <th>75%</th>\n",
       "      <td>2.000000e+00</td>\n",
       "      <td>2.990000e+00</td>\n",
       "      <td>1.000000e+00</td>\n",
       "      <td>2.330000e+02</td>\n",
       "      <td>2.340000e+02</td>\n",
       "      <td>2.000000e+00</td>\n",
       "      <td>1.450000e+01</td>\n",
       "      <td>2.950000e+00</td>\n",
       "      <td>2.038000e+01</td>\n",
       "    </tr>\n",
       "    <tr>\n",
       "      <th>max</th>\n",
       "      <td>4.000000e+00</td>\n",
       "      <td>1.913018e+04</td>\n",
       "      <td>9.900000e+01</td>\n",
       "      <td>2.650000e+02</td>\n",
       "      <td>2.650000e+02</td>\n",
       "      <td>5.000000e+00</td>\n",
       "      <td>9.432748e+05</td>\n",
       "      <td>1.414920e+05</td>\n",
       "      <td>1.084772e+06</td>\n",
       "    </tr>\n",
       "  </tbody>\n",
       "</table>\n",
       "</div>"
      ],
      "text/plain": [
       "           VendorID  trip_distance    RatecodeID  PULocationID  DOLocationID  \\\n",
       "count  3.850682e+07   3.850682e+07  3.850682e+07  3.850682e+07  3.850682e+07   \n",
       "mean   1.648052e+00   2.928816e+00  1.062819e+00  1.636933e+02  1.618286e+02   \n",
       "std    4.940170e-01   4.928323e+00  7.781968e-01  6.585201e+01  7.008215e+01   \n",
       "min    1.000000e+00  -2.301000e+01  1.000000e+00  1.000000e+00  1.000000e+00   \n",
       "25%    1.000000e+00   9.600000e-01  1.000000e+00  1.250000e+02  1.120000e+02   \n",
       "50%    2.000000e+00   1.600000e+00  1.000000e+00  1.620000e+02  1.620000e+02   \n",
       "75%    2.000000e+00   2.990000e+00  1.000000e+00  2.330000e+02  2.340000e+02   \n",
       "max    4.000000e+00   1.913018e+04  9.900000e+01  2.650000e+02  2.650000e+02   \n",
       "\n",
       "       payment_type   fare_amount    tip_amount  total_amount  \n",
       "count  3.850682e+07  3.850682e+07  3.850682e+07  3.850682e+07  \n",
       "mean   1.281697e+00  1.315997e+01  2.216832e+00  1.897351e+01  \n",
       "std    4.757621e-01  2.095397e+02  2.296971e+01  2.268097e+02  \n",
       "min    1.000000e+00 -1.472000e+03 -2.008000e+02 -1.472800e+03  \n",
       "25%    1.000000e+00  6.500000e+00  0.000000e+00  1.116000e+01  \n",
       "50%    1.000000e+00  9.500000e+00  1.860000e+00  1.469000e+01  \n",
       "75%    2.000000e+00  1.450000e+01  2.950000e+00  2.038000e+01  \n",
       "max    5.000000e+00  9.432748e+05  1.414920e+05  1.084772e+06  "
      ]
     },
     "execution_count": 9,
     "metadata": {},
     "output_type": "execute_result"
    }
   ],
   "source": [
    "df.describe()"
   ]
  },
  {
   "cell_type": "markdown",
   "metadata": {},
   "source": [
    "Looking at min, max, it's obvious that exept for payment_type, all other attributes have invalid data.\n",
    "\n",
    "Based on the result table, going attribute by attribute to eliminate instances with invalid attribute values, still need to check datetime attributes(), although they are not shown in the table\n",
    "\n",
    "The following code keeps record of number of invalid instances and number of instances left in dataframe everytime an elimination is performed. This is just a reference for checking correct elimination."
   ]
  },
  {
   "cell_type": "code",
   "execution_count": 10,
   "metadata": {},
   "outputs": [
    {
     "name": "stdout",
     "output_type": "stream",
     "text": [
      "[2019 2009 2008 2038 2002 2041 2020 2003 2015 2029 2090 2058 2026 2066] [2019 2009 2008 2018 2038 2003 2041 2020 2015 2029 2090 2058 2026 2066]\n",
      "(1779, 11)\n",
      "(29489, 11)\n",
      "(27142, 11)\n"
     ]
    }
   ],
   "source": [
    "# check whether all datetime objects are in 2019\n",
    "print(df['tpep_pickup_datetime'].dt.year.unique(), df['tpep_dropoff_datetime'].dt.year.unique())\n",
    "print(df.loc[(df['tpep_pickup_datetime'].dt.year != 2019) | (df['tpep_dropoff_datetime'].dt.year != 2019)].shape)\n",
    "\n",
    "# check whether all pickup_datetime are before dropoff_datetime\n",
    "print(df.loc[df['tpep_pickup_datetime'] >= df['tpep_dropoff_datetime']].shape)\n",
    "# also trip_distance are mostly 0 where pickup_datetime is after dropoff_datetime, so these rows probably won't be very useful\n",
    "print(df.loc[(df['tpep_pickup_datetime'] >= df['tpep_dropoff_datetime']) & (df['trip_distance'] == 0)].shape)"
   ]
  },
  {
   "cell_type": "code",
   "execution_count": 11,
   "metadata": {},
   "outputs": [
    {
     "name": "stdout",
     "output_type": "stream",
     "text": [
      "(38475554, 11)\n"
     ]
    }
   ],
   "source": [
    "# keep instances with valid year and datetime\n",
    "df = df.loc[(df['tpep_pickup_datetime'].dt.year == 2019) & (df['tpep_dropoff_datetime'].dt.year == 2019)]\n",
    "df = df.loc[df['tpep_pickup_datetime'] < df['tpep_dropoff_datetime']]\n",
    "print(df.shape) # there's overlap between the two elimination conditions, so shape might not seem consistence"
   ]
  },
  {
   "cell_type": "code",
   "execution_count": 12,
   "metadata": {},
   "outputs": [
    {
     "name": "stdout",
     "output_type": "stream",
     "text": [
      "[1. 2. 4.] (102501, 11)\n",
      "(38373053, 11) [1. 2.]\n"
     ]
    }
   ],
   "source": [
    "# invalid VendorID values\n",
    "print(df['VendorID'].unique(), df.loc[~(df['VendorID'].isin([1,2]))].shape)\n",
    "\n",
    "# remove VendorID==4 instances\n",
    "df = df.loc[df['VendorID'].isin([1,2])]\n",
    "print(df.shape, df['VendorID'].unique())"
   ]
  },
  {
   "cell_type": "code",
   "execution_count": 13,
   "metadata": {},
   "outputs": [
    {
     "name": "stdout",
     "output_type": "stream",
     "text": [
      "(300791, 11)\n",
      "(38072262, 11)\n"
     ]
    }
   ],
   "source": [
    "# invalid trip_distance\n",
    "print(df.loc[df['trip_distance'] <= 0].shape)\n",
    "\n",
    "# keep instances where trip_distance > 0\n",
    "df = df.loc[df['trip_distance'] > 0]\n",
    "print(df.shape)"
   ]
  },
  {
   "cell_type": "code",
   "execution_count": 14,
   "metadata": {},
   "outputs": [
    {
     "name": "stdout",
     "output_type": "stream",
     "text": [
      "[ 1.  2.  5.  4.  3. 99.  6.] (896, 11)\n",
      "(38071366, 11)\n"
     ]
    }
   ],
   "source": [
    "# invalid RatecodeID\n",
    "print(df['RatecodeID'].unique(), df.loc[df['RatecodeID'] > 6].shape)\n",
    "\n",
    "# keep instances where RatecodeID is one of [1,2,3,4,5,6]\n",
    "df = df.loc[df['RatecodeID'].isin([1,2,3,4,5,6])]\n",
    "print(df.shape)"
   ]
  },
  {
   "cell_type": "code",
   "execution_count": 15,
   "metadata": {
    "scrolled": true
   },
   "outputs": [
    {
     "name": "stdout",
     "output_type": "stream",
     "text": [
      "(422029, 11)\n",
      "(37649337, 11)\n"
     ]
    }
   ],
   "source": [
    "# invalid PULocationID and DOLocationID\n",
    "print(df.loc[(df['PULocationID'] > 263) | (df['DOLocationID'] > 263)].shape)\n",
    "\n",
    "# keep valid instances (PULocationID and DOLocationID are integers from 1 to 263)\n",
    "df = df.loc[(df['PULocationID'] <= 263) & (df['DOLocationID'] <= 263)]\n",
    "print(df.shape)"
   ]
  },
  {
   "cell_type": "code",
   "execution_count": 16,
   "metadata": {},
   "outputs": [
    {
     "name": "stdout",
     "output_type": "stream",
     "text": [
      "(37409589, 11)\n"
     ]
    }
   ],
   "source": [
    "# no invalid payment_type, but only keep instances with payment_type=1 or 2\n",
    "df = df.loc[df['payment_type'] <= 2]\n",
    "print(df.shape)"
   ]
  },
  {
   "cell_type": "markdown",
   "metadata": {},
   "source": [
    "All 3 money attributtes have negative values. First operate a simple filter: both fare_amount and total_amount >= 2.5. According to Taxi Fare Rate, all fare_amount and total_amount should be >= 2.5 as there's an initial charge applied once trip starts."
   ]
  },
  {
   "cell_type": "code",
   "execution_count": 17,
   "metadata": {},
   "outputs": [
    {
     "name": "stdout",
     "output_type": "stream",
     "text": [
      "(14929, 11)\n",
      "(37394660, 11)\n",
      "(0, 11)\n"
     ]
    }
   ],
   "source": [
    "# invalid total_amount and fare_amount\n",
    "print(df.loc[(df['total_amount'] < 2.5) | (df['fare_amount'] < 2.5)].shape)\n",
    "\n",
    "# keep instances with valid fare_amount and total_amount\n",
    "df = df.loc[(df['total_amount'] >= 2.5) & (df['fare_amount'] >= 2.5)]\n",
    "print(df.shape)\n",
    "print(df.loc[df['tip_amount'] < 0].shape) # there's no negative tip_amount after filtering on fare_amount and total_amount"
   ]
  },
  {
   "cell_type": "markdown",
   "metadata": {},
   "source": [
    "Create and add another filter for the dataframe: the taxi fare rate in dollar per mile: dpm. According to \"Taxi Fare\", it should be >= 2.5 dollar/mile"
   ]
  },
  {
   "cell_type": "code",
   "execution_count": 18,
   "metadata": {
    "scrolled": false
   },
   "outputs": [
    {
     "name": "stdout",
     "output_type": "stream",
     "text": [
      "count    3.739466e+07\n",
      "mean     1.169745e+01\n",
      "std      8.557853e+01\n",
      "min      5.750077e-04\n",
      "25%      6.273764e+00\n",
      "50%      8.710526e+00\n",
      "75%      1.196721e+01\n",
      "max      4.153000e+04\n",
      "dtype: float64\n",
      "(13056,)\n",
      "(37381604, 12)\n"
     ]
    }
   ],
   "source": [
    "# create the dpm attribute, and add it into the dataframe\n",
    "dpm = df['total_amount']/df['trip_distance']\n",
    "print(dpm.describe())\n",
    "df.insert(0, 'dpm', dpm)\n",
    "\n",
    "# invalid fare rate (dpm < 2.5)\n",
    "print(dpm.loc[dpm < 2.5].shape)\n",
    "\n",
    "# keep valid instances where dpm >= 2.5\n",
    "df = df.loc[dpm >= 2.5]\n",
    "print(df.shape)"
   ]
  },
  {
   "cell_type": "code",
   "execution_count": 19,
   "metadata": {},
   "outputs": [
    {
     "name": "stdout",
     "output_type": "stream",
     "text": [
      "(37381604, 9)\n"
     ]
    }
   ],
   "source": [
    "# remove VendorID, payment_type and DOLocationID attributes\n",
    "df = df.drop(columns=['VendorID', 'payment_type', 'DOLocationID'])\n",
    "print(df.shape)"
   ]
  },
  {
   "cell_type": "code",
   "execution_count": 20,
   "metadata": {},
   "outputs": [
    {
     "data": {
      "text/plain": [
       "Index(['dpm', 'tpep_pickup_datetime', 'tpep_dropoff_datetime', 'trip_distance',\n",
       "       'RatecodeID', 'PULocationID', 'fare_amount', 'tip_amount',\n",
       "       'total_amount'],\n",
       "      dtype='object')"
      ]
     },
     "execution_count": 20,
     "metadata": {},
     "output_type": "execute_result"
    }
   ],
   "source": [
    "df.columns"
   ]
  },
  {
   "cell_type": "markdown",
   "metadata": {},
   "source": [
    "### dpm (taxi fare rate in dollar per mile) & outlier"
   ]
  },
  {
   "cell_type": "code",
   "execution_count": 22,
   "metadata": {},
   "outputs": [
    {
     "name": "stdout",
     "output_type": "stream",
     "text": [
      "count    3.738160e+07\n",
      "mean     1.170084e+01\n",
      "std      8.559328e+01\n",
      "min      2.500000e+00\n",
      "25%      6.276923e+00\n",
      "50%      8.712329e+00\n",
      "75%      1.197183e+01\n",
      "max      4.153000e+04\n",
      "dtype: float64\n"
     ]
    }
   ],
   "source": [
    "df['dpm'].describe()"
   ]
  },
  {
   "cell_type": "code",
   "execution_count": 26,
   "metadata": {
    "scrolled": false
   },
   "outputs": [
    {
     "data": {
      "image/png": "[encoded data removed]",
      "text/plain": [
       "<Figure size 640x480 with 1 Axes>"
      ]
     },
     "metadata": {},
     "output_type": "display_data"
    }
   ],
   "source": [
    "plt.hist(df['dpm'], bins=100, range=(0,50))\n",
    "plt.title('histogram plot of dpm')\n",
    "plt.savefig('../plots/dpm_hist.png')\n",
    "plt.show()"
   ]
  },
  {
   "cell_type": "code",
   "execution_count": 28,
   "metadata": {},
   "outputs": [
    {
     "name": "stderr",
     "output_type": "stream",
     "text": [
      "C:\\Users\\amy_w\\Anaconda3\\lib\\site-packages\\seaborn\\distributions.py:2557: FutureWarning: `distplot` is a deprecated function and will be removed in a future version. Please adapt your code to use either `displot` (a figure-level function with similar flexibility) or `histplot` (an axes-level function for histograms).\n",
      "  warnings.warn(msg, FutureWarning)\n"
     ]
    },
    {
     "data": {
      "image/png": "[encoded data removed]",
      "text/plain": [
       "<Figure size 640x480 with 1 Axes>"
      ]
     },
     "metadata": {},
     "output_type": "display_data"
    }
   ],
   "source": [
    "# dpm shows a skewness to the right, operate log transformation to normalise\n",
    "import seaborn as sns\n",
    "from numpy import log\n",
    "\n",
    "sns.distplot(df['dpm'].apply(log), bins=50)\n",
    "plt.savefig('../plots/log_dpm_hist.png')\n",
    "plt.show()"
   ]
  },
  {
   "cell_type": "markdown",
   "metadata": {},
   "source": [
    "most dpm values fall in (2.72, 20.09) which is (exp(1), exp(3))"
   ]
  },
  {
   "cell_type": "code",
   "execution_count": 30,
   "metadata": {},
   "outputs": [
    {
     "data": {
      "text/plain": [
       "(35741810, 9)"
      ]
     },
     "execution_count": 30,
     "metadata": {},
     "output_type": "execute_result"
    }
   ],
   "source": [
    "df = df.loc[(df['dpm']>2.72) & (df['dpm']<20.09)]\n",
    "df.to_csv('../preprocessed_data/df_processed.csv', index=False)\n",
    "df.shape"
   ]
  }
 ],
 "metadata": {
  "kernelspec": {
   "display_name": "Python 3",
   "language": "python",
   "name": "python3"
  },
  "language_info": {
   "codemirror_mode": {
    "name": "ipython",
    "version": 3
   },
   "file_extension": ".py",
   "mimetype": "text/x-python",
   "name": "python",
   "nbconvert_exporter": "python",
   "pygments_lexer": "ipython3",
   "version": "3.7.1"
  }
 },
 "nbformat": 4,
 "nbformat_minor": 2
}
