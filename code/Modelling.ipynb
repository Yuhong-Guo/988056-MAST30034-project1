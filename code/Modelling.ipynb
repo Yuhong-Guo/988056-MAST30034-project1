{
 "cells": [
  {
   "cell_type": "markdown",
   "id": "4ac0e39e",
   "metadata": {},
   "source": [
    "### Linear regression and selecting the better model"
   ]
  },
  {
   "cell_type": "code",
   "execution_count": 1,
   "id": "fd30e4e6",
   "metadata": {},
   "outputs": [],
   "source": [
    "import pandas as pd\n",
    "from statsmodels.formula.api import *"
   ]
  },
  {
   "cell_type": "code",
   "execution_count": 13,
   "id": "b872de3c",
   "metadata": {
    "scrolled": true
   },
   "outputs": [
    {
     "data": {
      "text/html": [
       "<div>\n",
       "<style scoped>\n",
       "    .dataframe tbody tr th:only-of-type {\n",
       "        vertical-align: middle;\n",
       "    }\n",
       "\n",
       "    .dataframe tbody tr th {\n",
       "        vertical-align: top;\n",
       "    }\n",
       "\n",
       "    .dataframe thead th {\n",
       "        text-align: right;\n",
       "    }\n",
       "</style>\n",
       "<table border=\"1\" class=\"dataframe\">\n",
       "  <thead>\n",
       "    <tr style=\"text-align: right;\">\n",
       "      <th></th>\n",
       "      <th>trip_distance</th>\n",
       "      <th>RatecodeID</th>\n",
       "      <th>total_amount</th>\n",
       "    </tr>\n",
       "  </thead>\n",
       "  <tbody>\n",
       "    <tr>\n",
       "      <th>37379083</th>\n",
       "      <td>0.72</td>\n",
       "      <td>1.0</td>\n",
       "      <td>9.30</td>\n",
       "    </tr>\n",
       "    <tr>\n",
       "      <th>37379084</th>\n",
       "      <td>1.47</td>\n",
       "      <td>1.0</td>\n",
       "      <td>13.80</td>\n",
       "    </tr>\n",
       "    <tr>\n",
       "      <th>37379085</th>\n",
       "      <td>0.97</td>\n",
       "      <td>1.0</td>\n",
       "      <td>10.56</td>\n",
       "    </tr>\n",
       "    <tr>\n",
       "      <th>37379086</th>\n",
       "      <td>3.30</td>\n",
       "      <td>1.0</td>\n",
       "      <td>17.76</td>\n",
       "    </tr>\n",
       "    <tr>\n",
       "      <th>37379087</th>\n",
       "      <td>1.55</td>\n",
       "      <td>1.0</td>\n",
       "      <td>10.80</td>\n",
       "    </tr>\n",
       "  </tbody>\n",
       "</table>\n",
       "</div>"
      ],
      "text/plain": [
       "          trip_distance  RatecodeID  total_amount\n",
       "37379083           0.72         1.0          9.30\n",
       "37379084           1.47         1.0         13.80\n",
       "37379085           0.97         1.0         10.56\n",
       "37379086           3.30         1.0         17.76\n",
       "37379087           1.55         1.0         10.80"
      ]
     },
     "execution_count": 13,
     "metadata": {},
     "output_type": "execute_result"
    }
   ],
   "source": [
    "df = pd.read_csv(\"../preprocessed_data/df_preprocessed.csv\", usecols=['total_amount','trip_distance','RatecodeID'])\n",
    "df.tail()"
   ]
  },
  {
   "cell_type": "code",
   "execution_count": 7,
   "id": "e44183f6",
   "metadata": {
    "scrolled": false
   },
   "outputs": [
    {
     "data": {
      "text/plain": [
       "trip_distance    float64\n",
       "RatecodeID       float64\n",
       "total_amount     float64\n",
       "dtype: object"
      ]
     },
     "execution_count": 7,
     "metadata": {},
     "output_type": "execute_result"
    }
   ],
   "source": [
    "df.dtypes"
   ]
  },
  {
   "cell_type": "code",
   "execution_count": 14,
   "id": "6f6de92f",
   "metadata": {},
   "outputs": [
    {
     "data": {
      "text/html": [
       "<div>\n",
       "<style scoped>\n",
       "    .dataframe tbody tr th:only-of-type {\n",
       "        vertical-align: middle;\n",
       "    }\n",
       "\n",
       "    .dataframe tbody tr th {\n",
       "        vertical-align: top;\n",
       "    }\n",
       "\n",
       "    .dataframe thead th {\n",
       "        text-align: right;\n",
       "    }\n",
       "</style>\n",
       "<table border=\"1\" class=\"dataframe\">\n",
       "  <thead>\n",
       "    <tr style=\"text-align: right;\">\n",
       "      <th></th>\n",
       "      <th>trip_distance</th>\n",
       "      <th>RatecodeID</th>\n",
       "      <th>total_amount</th>\n",
       "    </tr>\n",
       "  </thead>\n",
       "  <tbody>\n",
       "    <tr>\n",
       "      <th>37284054</th>\n",
       "      <td>1.40</td>\n",
       "      <td>1.0</td>\n",
       "      <td>11.30</td>\n",
       "    </tr>\n",
       "    <tr>\n",
       "      <th>25603386</th>\n",
       "      <td>0.93</td>\n",
       "      <td>1.0</td>\n",
       "      <td>9.80</td>\n",
       "    </tr>\n",
       "    <tr>\n",
       "      <th>35545849</th>\n",
       "      <td>0.47</td>\n",
       "      <td>1.0</td>\n",
       "      <td>8.76</td>\n",
       "    </tr>\n",
       "    <tr>\n",
       "      <th>20087918</th>\n",
       "      <td>1.30</td>\n",
       "      <td>1.0</td>\n",
       "      <td>12.30</td>\n",
       "    </tr>\n",
       "    <tr>\n",
       "      <th>1379797</th>\n",
       "      <td>0.70</td>\n",
       "      <td>1.0</td>\n",
       "      <td>6.95</td>\n",
       "    </tr>\n",
       "    <tr>\n",
       "      <th>...</th>\n",
       "      <td>...</td>\n",
       "      <td>...</td>\n",
       "      <td>...</td>\n",
       "    </tr>\n",
       "    <tr>\n",
       "      <th>17795979</th>\n",
       "      <td>1.50</td>\n",
       "      <td>1.0</td>\n",
       "      <td>14.75</td>\n",
       "    </tr>\n",
       "    <tr>\n",
       "      <th>8272394</th>\n",
       "      <td>0.43</td>\n",
       "      <td>1.0</td>\n",
       "      <td>10.56</td>\n",
       "    </tr>\n",
       "    <tr>\n",
       "      <th>35723154</th>\n",
       "      <td>5.80</td>\n",
       "      <td>1.0</td>\n",
       "      <td>24.80</td>\n",
       "    </tr>\n",
       "    <tr>\n",
       "      <th>32140772</th>\n",
       "      <td>0.69</td>\n",
       "      <td>1.0</td>\n",
       "      <td>11.00</td>\n",
       "    </tr>\n",
       "    <tr>\n",
       "      <th>34284129</th>\n",
       "      <td>8.90</td>\n",
       "      <td>1.0</td>\n",
       "      <td>49.92</td>\n",
       "    </tr>\n",
       "  </tbody>\n",
       "</table>\n",
       "<p>18689544 rows × 3 columns</p>\n",
       "</div>"
      ],
      "text/plain": [
       "          trip_distance  RatecodeID  total_amount\n",
       "37284054           1.40         1.0         11.30\n",
       "25603386           0.93         1.0          9.80\n",
       "35545849           0.47         1.0          8.76\n",
       "20087918           1.30         1.0         12.30\n",
       "1379797            0.70         1.0          6.95\n",
       "...                 ...         ...           ...\n",
       "17795979           1.50         1.0         14.75\n",
       "8272394            0.43         1.0         10.56\n",
       "35723154           5.80         1.0         24.80\n",
       "32140772           0.69         1.0         11.00\n",
       "34284129           8.90         1.0         49.92\n",
       "\n",
       "[18689544 rows x 3 columns]"
      ]
     },
     "execution_count": 14,
     "metadata": {},
     "output_type": "execute_result"
    }
   ],
   "source": [
    "df = df.sample(frac=0.5, random_state=1)\n",
    "df"
   ]
  },
  {
   "cell_type": "code",
   "execution_count": 15,
   "id": "b7ddc103",
   "metadata": {
    "scrolled": true
   },
   "outputs": [
    {
     "name": "stdout",
     "output_type": "stream",
     "text": [
      "                            OLS Regression Results                            \n",
      "==============================================================================\n",
      "Dep. Variable:           total_amount   R-squared:                       0.866\n",
      "Model:                            OLS   Adj. R-squared:                  0.866\n",
      "Method:                 Least Squares   F-statistic:                 1.211e+08\n",
      "Date:                Sun, 22 Aug 2021   Prob (F-statistic):               0.00\n",
      "Time:                        11:00:22   Log-Likelihood:            -5.6181e+07\n",
      "No. Observations:            18689544   AIC:                         1.124e+08\n",
      "Df Residuals:                18689542   BIC:                         1.124e+08\n",
      "Df Model:                           1                                         \n",
      "Covariance Type:            nonrobust                                         \n",
      "=================================================================================\n",
      "                    coef    std err          t      P>|t|      [0.025      0.975]\n",
      "---------------------------------------------------------------------------------\n",
      "Intercept         8.8986      0.001   6184.823      0.000       8.896       8.901\n",
      "trip_distance     3.3570      0.000    1.1e+04      0.000       3.356       3.358\n",
      "==============================================================================\n",
      "Omnibus:                 16965206.004   Durbin-Watson:                   2.000\n",
      "Prob(Omnibus):                  0.000   Jarque-Bera (JB):       1827251762.884\n",
      "Skew:                           3.981   Prob(JB):                         0.00\n",
      "Kurtosis:                      50.781   Cond. No.                         6.11\n",
      "==============================================================================\n",
      "\n",
      "Notes:\n",
      "[1] Standard Errors assume that the covariance matrix of the errors is correctly specified.\n"
     ]
    }
   ],
   "source": [
    "model1 = ols(formula=\"total_amount ~ trip_distance\", data=df).fit()\n",
    "print(model1.summary())"
   ]
  },
  {
   "cell_type": "code",
   "execution_count": 16,
   "id": "f8631b33",
   "metadata": {},
   "outputs": [
    {
     "name": "stdout",
     "output_type": "stream",
     "text": [
      "                            OLS Regression Results                            \n",
      "==============================================================================\n",
      "Dep. Variable:           total_amount   R-squared:                       0.872\n",
      "Model:                            OLS   Adj. R-squared:                  0.872\n",
      "Method:                 Least Squares   F-statistic:                 6.339e+07\n",
      "Date:                Sun, 22 Aug 2021   Prob (F-statistic):               0.00\n",
      "Time:                        11:03:50   Log-Likelihood:            -5.5812e+07\n",
      "No. Observations:            18689544   AIC:                         1.116e+08\n",
      "Df Residuals:                18689541   BIC:                         1.116e+08\n",
      "Df Model:                           2                                         \n",
      "Covariance Type:            nonrobust                                         \n",
      "=================================================================================\n",
      "                    coef    std err          t      P>|t|      [0.025      0.975]\n",
      "---------------------------------------------------------------------------------\n",
      "Intercept         5.2463      0.004   1181.620      0.000       5.238       5.255\n",
      "trip_distance     3.2215      0.000   9549.828      0.000       3.221       3.222\n",
      "RatecodeID        3.8915      0.004    867.547      0.000       3.883       3.900\n",
      "==============================================================================\n",
      "Omnibus:                 13337371.860   Durbin-Watson:                   2.000\n",
      "Prob(Omnibus):                  0.000   Jarque-Bera (JB):        914931973.583\n",
      "Skew:                           2.792   Prob(JB):                         0.00\n",
      "Kurtosis:                      36.819   Cond. No.                         27.1\n",
      "==============================================================================\n",
      "\n",
      "Notes:\n",
      "[1] Standard Errors assume that the covariance matrix of the errors is correctly specified.\n"
     ]
    }
   ],
   "source": [
    "model2 = ols(formula=\"total_amount ~ trip_distance + RatecodeID\", data=df).fit()\n",
    "print(model2.summary())"
   ]
  },
  {
   "cell_type": "code",
   "execution_count": 17,
   "id": "76886ff3",
   "metadata": {},
   "outputs": [
    {
     "data": {
      "text/plain": [
       "([112362449.67587978, 111624573.43900755],\n",
       " [112362479.16282934, 111624617.6694319])"
      ]
     },
     "execution_count": 17,
     "metadata": {},
     "output_type": "execute_result"
    }
   ],
   "source": [
    "[model1.aic, model2.aic], [model1.bic, model2.bic]"
   ]
  }
 ],
 "metadata": {
  "kernelspec": {
   "display_name": "Python 3",
   "language": "python",
   "name": "python3"
  },
  "language_info": {
   "codemirror_mode": {
    "name": "ipython",
    "version": 3
   },
   "file_extension": ".py",
   "mimetype": "text/x-python",
   "name": "python",
   "nbconvert_exporter": "python",
   "pygments_lexer": "ipython3",
   "version": "3.7.1"
  }
 },
 "nbformat": 4,
 "nbformat_minor": 5
}
