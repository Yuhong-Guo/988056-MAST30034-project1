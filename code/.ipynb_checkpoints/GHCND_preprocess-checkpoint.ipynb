{
 "cells": [
  {
   "cell_type": "markdown",
   "metadata": {},
   "source": [
    "### preprocess GHCND to contain information about SNOW from stations in New York borough"
   ]
  },
  {
   "cell_type": "code",
   "execution_count": 3,
   "metadata": {},
   "outputs": [],
   "source": [
    "import pandas as pd\n",
    "import matplotlib.pyplot as plt"
   ]
  },
  {
   "cell_type": "code",
   "execution_count": 2,
   "metadata": {},
   "outputs": [
    {
     "name": "stdout",
     "output_type": "stream",
     "text": [
      "Done downloading 2019try.csv to ../raw_data with size 0.14GB\n"
     ]
    }
   ],
   "source": [
    "# downloading 2019 GHCND file\n",
    "from os.path import getsize\n",
    "from urllib.request import urlretrieve\n",
    "\n",
    "output_dir = \"../raw_data\"\n",
    "out = f'2019.csv'\n",
    "url = \"https://www1.ncdc.noaa.gov/pub/data/ghcn/daily/by_year/2019.csv.gz\"\n",
    "urlretrieve(url, f\"{output_dir}/{out}\")\n",
    "\n",
    "print(f\"Done downloading {out} to {output_dir} with size {getsize(f'{output_dir}/{out}') / 1073741824:.2f}GB\")"
   ]
  },
  {
   "cell_type": "code",
   "execution_count": 9,
   "metadata": {
    "scrolled": true
   },
   "outputs": [
    {
     "name": "stderr",
     "output_type": "stream",
     "text": [
      "C:\\Users\\amy_w\\Anaconda3\\lib\\site-packages\\ipykernel_launcher.py:3: DeprecationWarning: `np.str` is a deprecated alias for the builtin `str`. To silence this warning, use `str` by itself. Doing this will not modify any behavior and is safe. If you specifically wanted the numpy scalar type, use `np.str_` here.\n",
      "Deprecated in NumPy 1.20; for more details and guidance: https://numpy.org/devdocs/release/1.20.0-notes.html#deprecations\n",
      "  This is separate from the ipykernel package so we can avoid doing imports until\n"
     ]
    },
    {
     "data": {
      "text/html": [
       "<div>\n",
       "<style scoped>\n",
       "    .dataframe tbody tr th:only-of-type {\n",
       "        vertical-align: middle;\n",
       "    }\n",
       "\n",
       "    .dataframe tbody tr th {\n",
       "        vertical-align: top;\n",
       "    }\n",
       "\n",
       "    .dataframe thead th {\n",
       "        text-align: right;\n",
       "    }\n",
       "</style>\n",
       "<table border=\"1\" class=\"dataframe\">\n",
       "  <thead>\n",
       "    <tr style=\"text-align: right;\">\n",
       "      <th></th>\n",
       "      <th>station</th>\n",
       "      <th>date</th>\n",
       "      <th>element</th>\n",
       "      <th>value</th>\n",
       "      <th>Mflag</th>\n",
       "      <th>Qflag</th>\n",
       "      <th>Sflag</th>\n",
       "      <th>time</th>\n",
       "    </tr>\n",
       "  </thead>\n",
       "  <tbody>\n",
       "    <tr>\n",
       "      <th>34732301</th>\n",
       "      <td>WQW00041606</td>\n",
       "      <td>20191231</td>\n",
       "      <td>TMIN</td>\n",
       "      <td>222</td>\n",
       "      <td>NaN</td>\n",
       "      <td>NaN</td>\n",
       "      <td>S</td>\n",
       "      <td>NaN</td>\n",
       "    </tr>\n",
       "    <tr>\n",
       "      <th>34732302</th>\n",
       "      <td>WQW00041606</td>\n",
       "      <td>20191231</td>\n",
       "      <td>TAVG</td>\n",
       "      <td>239</td>\n",
       "      <td>H</td>\n",
       "      <td>NaN</td>\n",
       "      <td>S</td>\n",
       "      <td>NaN</td>\n",
       "    </tr>\n",
       "    <tr>\n",
       "      <th>34732303</th>\n",
       "      <td>ZI000067775</td>\n",
       "      <td>20191231</td>\n",
       "      <td>TMAX</td>\n",
       "      <td>334</td>\n",
       "      <td>NaN</td>\n",
       "      <td>NaN</td>\n",
       "      <td>S</td>\n",
       "      <td>NaN</td>\n",
       "    </tr>\n",
       "    <tr>\n",
       "      <th>34732304</th>\n",
       "      <td>ZI000067775</td>\n",
       "      <td>20191231</td>\n",
       "      <td>TMIN</td>\n",
       "      <td>154</td>\n",
       "      <td>NaN</td>\n",
       "      <td>NaN</td>\n",
       "      <td>S</td>\n",
       "      <td>NaN</td>\n",
       "    </tr>\n",
       "    <tr>\n",
       "      <th>34732305</th>\n",
       "      <td>ZI000067775</td>\n",
       "      <td>20191231</td>\n",
       "      <td>TAVG</td>\n",
       "      <td>247</td>\n",
       "      <td>H</td>\n",
       "      <td>NaN</td>\n",
       "      <td>S</td>\n",
       "      <td>NaN</td>\n",
       "    </tr>\n",
       "  </tbody>\n",
       "</table>\n",
       "</div>"
      ],
      "text/plain": [
       "              station      date element  value Mflag Qflag Sflag  time\n",
       "34732301  WQW00041606  20191231    TMIN    222   NaN   NaN     S   NaN\n",
       "34732302  WQW00041606  20191231    TAVG    239     H   NaN     S   NaN\n",
       "34732303  ZI000067775  20191231    TMAX    334   NaN   NaN     S   NaN\n",
       "34732304  ZI000067775  20191231    TMIN    154   NaN   NaN     S   NaN\n",
       "34732305  ZI000067775  20191231    TAVG    247     H   NaN     S   NaN"
      ]
     },
     "execution_count": 9,
     "metadata": {},
     "output_type": "execute_result"
    }
   ],
   "source": [
    "# read the downloaded '.csv.gzip' file into dataframe\n",
    "import numpy as np\n",
    "\n",
    "col_dtypes = {'station':np.str, 'date':np.int32, 'element':np.str, 'value':np.int32, 'Mflag':np.str, 'Qflag':np.str, 'Sflag':np.str, 'time': np.float64}\n",
    "GHCND_df = pd.read_csv(\"../raw_data/2019.csv\", compression={'method':'gzip'}, names=['station','date','element','value','Mflag','Qflag','Sflag','time'], dtype=col_dtypes)\n",
    "GHCND_df.tail()"
   ]
  },
  {
   "cell_type": "code",
   "execution_count": 10,
   "metadata": {},
   "outputs": [
    {
     "data": {
      "text/plain": [
       "station     object\n",
       "date         int32\n",
       "element     object\n",
       "value        int32\n",
       "Mflag       object\n",
       "Qflag       object\n",
       "Sflag       object\n",
       "time       float64\n",
       "dtype: object"
      ]
     },
     "execution_count": 10,
     "metadata": {},
     "output_type": "execute_result"
    }
   ],
   "source": [
    "GHCND_df.dtypes"
   ]
  },
  {
   "cell_type": "code",
   "execution_count": 11,
   "metadata": {
    "scrolled": true
   },
   "outputs": [
    {
     "name": "stdout",
     "output_type": "stream",
     "text": [
      "station     object\n",
      "lat        float64\n",
      "lon        float64\n",
      "dtype: object \n",
      "          station      lat      lon\n",
      "837  US1NYYT0005  42.7326 -77.0766\n",
      "838  US1NYYT0006  42.5110 -76.9155\n",
      "839  US1NYYT0007  42.5284 -76.9776\n",
      "840  US1NYYT0008  42.6539 -77.2660\n",
      "841  US1NYYT0009  42.6042 -77.3007\n"
     ]
    }
   ],
   "source": [
    "# read the station information file to get station ID for stations within the New York borough range, in order to filter\n",
    "# GHCND_df to contain data of stations within New York borough.\n",
    "data = []\n",
    "f = open('../raw_data/NYstations.csv', 'r')\n",
    "for line in f.readlines():\n",
    "    line_split = line.split('  ')\n",
    "    row = [line_split[0], float(line_split[1]), float(line_split[2])]\n",
    "    data.append(row)\n",
    "station_df = pd.DataFrame(data, columns=['station', 'lat', 'lon'])\n",
    "print(station_df.dtypes, '\\n', station_df.tail())"
   ]
  },
  {
   "cell_type": "code",
   "execution_count": 12,
   "metadata": {
    "scrolled": true
   },
   "outputs": [
    {
     "data": {
      "text/plain": [
       "46     US1NYBX0025\n",
       "319    US1NYKN0003\n",
       "320    US1NYKN0025\n",
       "399    US1NYNS0007\n",
       "421    US1NYNY0074\n",
       "422    US1NYNY0078\n",
       "544    US1NYQN0002\n",
       "545    US1NYQN0026\n",
       "546    US1NYQN0027\n",
       "547    US1NYQN0029\n",
       "548    US1NYQN0033\n",
       "549    US1NYQN0036\n",
       "550    US1NYQN0037\n",
       "551    US1NYRC0001\n",
       "552    US1NYRC0002\n",
       "Name: station, dtype: object"
      ]
     },
     "execution_count": 12,
     "metadata": {},
     "output_type": "execute_result"
    }
   ],
   "source": [
    "# extract stations which are in the New York borough range\n",
    "# range reference: 'Lab2 R tutorial'->'Boundary Plot'\n",
    "borough_stations = station_df.loc[(station_df['lat']>40.5)&(station_df['lat']<40.9)&(station_df['lon']>-74.3)&(station_df['lon']<-73.7)]['station']\n",
    "borough_stations"
   ]
  },
  {
   "cell_type": "code",
   "execution_count": 16,
   "metadata": {
    "scrolled": true
   },
   "outputs": [
    {
     "data": {
      "text/html": [
       "<div>\n",
       "<style scoped>\n",
       "    .dataframe tbody tr th:only-of-type {\n",
       "        vertical-align: middle;\n",
       "    }\n",
       "\n",
       "    .dataframe tbody tr th {\n",
       "        vertical-align: top;\n",
       "    }\n",
       "\n",
       "    .dataframe thead th {\n",
       "        text-align: right;\n",
       "    }\n",
       "</style>\n",
       "<table border=\"1\" class=\"dataframe\">\n",
       "  <thead>\n",
       "    <tr style=\"text-align: right;\">\n",
       "      <th></th>\n",
       "      <th>station</th>\n",
       "      <th>date</th>\n",
       "      <th>element</th>\n",
       "      <th>value</th>\n",
       "      <th>Mflag</th>\n",
       "      <th>Qflag</th>\n",
       "      <th>Sflag</th>\n",
       "      <th>time</th>\n",
       "    </tr>\n",
       "  </thead>\n",
       "  <tbody>\n",
       "    <tr>\n",
       "      <th>34678284</th>\n",
       "      <td>US1NYQN0002</td>\n",
       "      <td>20191231</td>\n",
       "      <td>PRCP</td>\n",
       "      <td>84</td>\n",
       "      <td>NaN</td>\n",
       "      <td>NaN</td>\n",
       "      <td>N</td>\n",
       "      <td>NaN</td>\n",
       "    </tr>\n",
       "    <tr>\n",
       "      <th>34678285</th>\n",
       "      <td>US1NYQN0027</td>\n",
       "      <td>20191231</td>\n",
       "      <td>DAPR</td>\n",
       "      <td>5</td>\n",
       "      <td>NaN</td>\n",
       "      <td>NaN</td>\n",
       "      <td>N</td>\n",
       "      <td>NaN</td>\n",
       "    </tr>\n",
       "    <tr>\n",
       "      <th>34678286</th>\n",
       "      <td>US1NYQN0027</td>\n",
       "      <td>20191231</td>\n",
       "      <td>MDPR</td>\n",
       "      <td>193</td>\n",
       "      <td>NaN</td>\n",
       "      <td>NaN</td>\n",
       "      <td>N</td>\n",
       "      <td>NaN</td>\n",
       "    </tr>\n",
       "    <tr>\n",
       "      <th>34678287</th>\n",
       "      <td>US1NYRC0001</td>\n",
       "      <td>20191231</td>\n",
       "      <td>PRCP</td>\n",
       "      <td>259</td>\n",
       "      <td>NaN</td>\n",
       "      <td>NaN</td>\n",
       "      <td>N</td>\n",
       "      <td>NaN</td>\n",
       "    </tr>\n",
       "    <tr>\n",
       "      <th>34678288</th>\n",
       "      <td>US1NYRC0002</td>\n",
       "      <td>20191231</td>\n",
       "      <td>PRCP</td>\n",
       "      <td>56</td>\n",
       "      <td>NaN</td>\n",
       "      <td>NaN</td>\n",
       "      <td>N</td>\n",
       "      <td>NaN</td>\n",
       "    </tr>\n",
       "  </tbody>\n",
       "</table>\n",
       "</div>"
      ],
      "text/plain": [
       "              station      date element  value Mflag Qflag Sflag  time\n",
       "34678284  US1NYQN0002  20191231    PRCP     84   NaN   NaN     N   NaN\n",
       "34678285  US1NYQN0027  20191231    DAPR      5   NaN   NaN     N   NaN\n",
       "34678286  US1NYQN0027  20191231    MDPR    193   NaN   NaN     N   NaN\n",
       "34678287  US1NYRC0001  20191231    PRCP    259   NaN   NaN     N   NaN\n",
       "34678288  US1NYRC0002  20191231    PRCP     56   NaN   NaN     N   NaN"
      ]
     },
     "execution_count": 16,
     "metadata": {},
     "output_type": "execute_result"
    }
   ],
   "source": [
    "# filter GHCND using the station ID in borough_stations\n",
    "# now we have GHCND_borough_df containing data from stations within New York borough range\n",
    "GHCND_borough_df = GHCND_df.loc[(GHCND_df['station'].isin(borough_stations))]\n",
    "GHCND_borough_df.tail()"
   ]
  },
  {
   "cell_type": "code",
   "execution_count": 17,
   "metadata": {},
   "outputs": [
    {
     "name": "stdout",
     "output_type": "stream",
     "text": [
      "(1160, 2)\n"
     ]
    }
   ],
   "source": [
    "# further filter the dataframe to contain rows with SNOW element, as SNOW is our interest\n",
    "# the three flag attributes are not useful in further analysis, and time has many NaN values, \n",
    "# so extract only date and value attributes\n",
    "SNOW_df = GHCND_borough_df.loc[GHCND_borough_df['element']=='SNOW', ['date', 'value']]\n",
    "print(SNOW_df.shape)\n",
    "# create and write into csv file\n",
    "SNOW_df.to_csv('../preprocessed_data/SNOW.csv', index=False)"
   ]
  },
  {
   "cell_type": "code",
   "execution_count": 13,
   "metadata": {},
   "outputs": [],
   "source": [
    "# may keep a record of GHCND_borough_df\n",
    "#GHCND_borough_df.to_csv('../preprocessed_data/GHCND_borough.csv', index=False)"
   ]
  }
 ],
 "metadata": {
  "kernelspec": {
   "display_name": "Python 3",
   "language": "python",
   "name": "python3"
  },
  "language_info": {
   "codemirror_mode": {
    "name": "ipython",
    "version": 3
   },
   "file_extension": ".py",
   "mimetype": "text/x-python",
   "name": "python",
   "nbconvert_exporter": "python",
   "pygments_lexer": "ipython3",
   "version": "3.7.1"
  }
 },
 "nbformat": 4,
 "nbformat_minor": 2
}
